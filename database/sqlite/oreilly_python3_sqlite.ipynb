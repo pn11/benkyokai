{
 "cells": [
  {
   "cell_type": "markdown",
   "metadata": {},
   "source": [
    "# オライリー『入門Python3』の SQLite の例"
   ]
  },
  {
   "cell_type": "code",
   "execution_count": 1,
   "metadata": {},
   "outputs": [
    {
     "data": {
      "text/plain": [
       "'2.6.0'"
      ]
     },
     "execution_count": 1,
     "metadata": {},
     "output_type": "execute_result"
    }
   ],
   "source": [
    "import sqlite3\n",
    "\n",
    "sqlite3.version"
   ]
  },
  {
   "cell_type": "code",
   "execution_count": 2,
   "metadata": {},
   "outputs": [
    {
     "data": {
      "text/plain": [
       "<sqlite3.Cursor at 0x1057cef10>"
      ]
     },
     "execution_count": 2,
     "metadata": {},
     "output_type": "execute_result"
    }
   ],
   "source": [
    "conn = sqlite3.connect('enterprise.db')\n",
    "curs = conn.cursor()\n",
    "curs.execute('''CREATE TABLE zoo (\n",
    "critter VARCHAR(20) PRIMARY KEY,\n",
    "count INT,\n",
    "damages FLOAT)''')"
   ]
  },
  {
   "cell_type": "code",
   "execution_count": 3,
   "metadata": {},
   "outputs": [
    {
     "data": {
      "text/plain": [
       "<sqlite3.Cursor at 0x1057cef10>"
      ]
     },
     "execution_count": 3,
     "metadata": {},
     "output_type": "execute_result"
    }
   ],
   "source": [
    "# duck と bear を INSERT\n",
    "curs.execute('INSERT INTO zoo VALUES(\"duck\", 5, 0.0)')\n",
    "curs.execute('INSERT INTO zoo VALUES(\"bear\", 2, 1000.0)')"
   ]
  },
  {
   "cell_type": "markdown",
   "metadata": {},
   "source": [
    "上の例で、値の部分を変数にして、\n",
    "\n",
    "```python\n",
    "curs.execute('INSERT INTO zoo VALUES({}, {}, {})'.format(\"duck\", 5, 0.0))\n",
    "```\n",
    "\n",
    "のようにやりたくなる。このようにやると予期しないSQL文を差し込んでしまう可能性があるので、危険。\n",
    "\n",
    "[xkcd: Exploits of a Mom](https://xkcd.com/327/) で、子供に `Robert'); DROP TABLE Students;--` という名前を付けた母のせいで学校のデータベースが消えるという例が載っていた。"
   ]
  },
  {
   "cell_type": "code",
   "execution_count": 4,
   "metadata": {},
   "outputs": [
    {
     "data": {
      "text/plain": [
       "<sqlite3.Cursor at 0x1057cef10>"
      ]
     },
     "execution_count": 4,
     "metadata": {},
     "output_type": "execute_result"
    }
   ],
   "source": [
    "# プレースホルダーを使った安全な方法\n",
    "ins = 'INSERT INTO zoo(critter, count, damages) VALUES(?, ?, ?)'\n",
    "curs.execute(ins, ('weasel', 1, 2000.0))"
   ]
  },
  {
   "cell_type": "code",
   "execution_count": 5,
   "metadata": {},
   "outputs": [
    {
     "data": {
      "text/plain": [
       "[('duck', 5, 0.0), ('bear', 2, 1000.0), ('weasel', 1, 2000.0)]"
      ]
     },
     "execution_count": 5,
     "metadata": {},
     "output_type": "execute_result"
    }
   ],
   "source": [
    "# SELECT\n",
    "curs.execute('SELECT * FROM zoo')\n",
    "curs.fetchall()"
   ]
  },
  {
   "cell_type": "code",
   "execution_count": 6,
   "metadata": {},
   "outputs": [
    {
     "data": {
      "text/plain": [
       "[('weasel', 1, 2000.0), ('bear', 2, 1000.0), ('duck', 5, 0.0)]"
      ]
     },
     "execution_count": 6,
     "metadata": {},
     "output_type": "execute_result"
    }
   ],
   "source": [
    "# ソートする\n",
    "curs.execute('SELECT * FROM zoo ORDER BY count')\n",
    "curs.fetchall()"
   ]
  },
  {
   "cell_type": "code",
   "execution_count": 7,
   "metadata": {},
   "outputs": [
    {
     "data": {
      "text/plain": [
       "[('duck', 5, 0.0), ('bear', 2, 1000.0), ('weasel', 1, 2000.0)]"
      ]
     },
     "execution_count": 7,
     "metadata": {},
     "output_type": "execute_result"
    }
   ],
   "source": [
    "# 降順にソートする\n",
    "curs.execute('SELECT * FROM zoo ORDER BY count DESC')\n",
    "curs.fetchall()"
   ]
  },
  {
   "cell_type": "code",
   "execution_count": 8,
   "metadata": {},
   "outputs": [
    {
     "data": {
      "text/plain": [
       "[('weasel', 1, 2000.0)]"
      ]
     },
     "execution_count": 8,
     "metadata": {},
     "output_type": "execute_result"
    }
   ],
   "source": [
    "# damages MAX を抽出\n",
    "curs.execute('''SELECT * FROM zoo WHERE\n",
    "damages = (SELECT MAX(damages) FROM zoo)''')\n",
    "curs.fetchall()"
   ]
  },
  {
   "cell_type": "code",
   "execution_count": 9,
   "metadata": {},
   "outputs": [],
   "source": [
    "curs.close()\n",
    "conn.close()"
   ]
  },
  {
   "cell_type": "markdown",
   "metadata": {},
   "source": [
    "## Reference\n",
    "\n",
    "- [Python SQLite 公式ドキュメント](https://docs.python.org/3/library/sqlite3.html)\n",
    "  - [xkcd: Exploits of a Mom](https://xkcd.com/327/) が紹介されてた"
   ]
  }
 ],
 "metadata": {
  "kernelspec": {
   "display_name": "Python 3",
   "language": "python",
   "name": "python3"
  },
  "language_info": {
   "codemirror_mode": {
    "name": "ipython",
    "version": 3
   },
   "file_extension": ".py",
   "mimetype": "text/x-python",
   "name": "python",
   "nbconvert_exporter": "python",
   "pygments_lexer": "ipython3",
   "version": "3.7.3"
  }
 },
 "nbformat": 4,
 "nbformat_minor": 2
}
