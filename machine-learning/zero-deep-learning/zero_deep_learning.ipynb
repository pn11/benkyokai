{
 "cells": [
  {
   "cell_type": "markdown",
   "metadata": {},
   "source": [
    "# ゼロから作る Deep Learning 学習ノート"
   ]
  },
  {
   "cell_type": "markdown",
   "metadata": {},
   "source": [
    "## 1.5 NumPy による行列計算\n",
    "\n",
    "下のコードで、$B$は2行2列の行列。$D$は2行3列の行列。  \n",
    "`D.shape`で出力される結果は`(行, 列)` となっていて、普通の書き方と同じなのだが、ベクトルのときだけは変なので注意。  \n",
    "\n",
    "$A$は1行2列のベクトル、$C$は2行1列のベクトルとして作っていて、`C.shape` の結果はそのようになっていて正しい。  \n",
    "一方で`A.shape` の結果は`(2,)`のようになっていて、2行1列を示しているのかと思って混乱した。どうも `A = np.array([1,2])` のように定義した場合、numpy では行ベクトルか列ベクトルかは気にしないらしい。その証拠に、`np.dot(A,B)` と `np.dot(B,A)` のどちらも計算できてしまう。なお`dot`というのがNumPyでの通常の行列の計算。計算結果を見ると、`np.dot(A,B)`は\n",
    "\n",
    "$\\begin{pmatrix}1 &2\\end{pmatrix}\\cdot \\begin{pmatrix}1 &2\\\\3 &4\\end{pmatrix} = \\begin{pmatrix}7 &10\\end{pmatrix}$\n",
    "\n",
    "をやっていて、`np.dot(B,A)`は\n",
    "\n",
    "$\\begin{pmatrix}\\begin{pmatrix}1 &2\\\\3 &4\\end{pmatrix} \\cdot \\begin{pmatrix}1 &2\\end{pmatrix}^T\\end{pmatrix}^T= \\begin{pmatrix}5 &11\\end{pmatrix}$\n",
    "\n",
    "をやっているっぽい。  \n",
    "\n",
    "これは気持ち悪いので、`A2 = np.array([[1,2]])` とすれば行ベクトルであることを明示できることを発見した。  \n",
    "\n",
    "\n",
    "`A*B` は NumPy のブロードキャストという機能で、`A`と`B`の形が違くても謎の計算してくれる。片方がスカラーの場合は全要素がスカラー倍されるだけなのでわかりやすいが、それ以外の場合はちょっと動作が気持ち悪い (7.2.6 を読むと便利なのが分かる)。やってることとしては、まず2行2列の$B$に合わせて、$A = (1\\, 2)$ を以下のように無理やり拡張する。  \n",
    "\n",
    "$A' = \\begin{pmatrix}1 &2\\\\1 &2\\end{pmatrix}$\n",
    "\n",
    "次に$A'$と$B$それぞれの同じ場所の要素同士の積を新たな行列の要素とする。\n",
    "\n",
    "$A'\\circ B = \\begin{pmatrix}1*1 &2*2\\\\1*3 &2*4\\end{pmatrix}$\n",
    "\n",
    "この積は Wikipedia 「行列の積」を見たら、Hadamart 積というらしい。\n",
    "\n",
    "- http://buzzard.ups.edu/courses/2007spring/projects/million-paper.pdf\n",
    "\n",
    "によると応用例が\n",
    "\n",
    "- http://www.ams.org/books/psapm/040/\n",
    "\n",
    "に載ってるらしい。画像処理のフィルターをかけるときはこれを使うと良い。"
   ]
  },
  {
   "cell_type": "code",
   "execution_count": 1,
   "metadata": {},
   "outputs": [
    {
     "name": "stdout",
     "output_type": "stream",
     "text": [
      "(2,)\n",
      "(2, 2)\n",
      "(2, 1)\n",
      "(3, 2)\n",
      "(1, 2)\n",
      "[[1 4]\n",
      " [3 8]]\n",
      "[ 7 10]\n",
      "[ 5 11]\n",
      "[[ 5]\n",
      " [11]]\n"
     ]
    }
   ],
   "source": [
    "import numpy as np\n",
    "\n",
    "A = np.array([1,2])\n",
    "B = np.array([[1,2],[3,4]])\n",
    "C = np.array([[1],[2]])\n",
    "D = np.array([[1, 2], [3,4], [5,6]])\n",
    "A2 = np.array([[1,2]])\n",
    "\n",
    "\n",
    "print(A.shape)\n",
    "print(B.shape)\n",
    "print(C.shape)\n",
    "print(D.shape)\n",
    "print(A2.shape)\n",
    "print(A*B)\n",
    "print(np.dot(A,B))\n",
    "print(np.dot(B,A))\n",
    "print(np.dot(B, C))"
   ]
  },
  {
   "cell_type": "markdown",
   "metadata": {
    "collapsed": true
   },
   "source": [
    "### 1.6 Matplotlib の使い方"
   ]
  },
  {
   "cell_type": "code",
   "execution_count": 2,
   "metadata": {},
   "outputs": [
    {
     "data": {
      "image/png": "[encoded data removed]",
      "text/plain": [
       "<matplotlib.figure.Figure at 0x1041f3c50>"
      ]
     },
     "metadata": {},
     "output_type": "display_data"
    }
   ],
   "source": [
    "import numpy as np\n",
    "import matplotlib.pylab as plt\n",
    "x = np.arange(0, 6, 0.1)\n",
    "y = np.sin(x)\n",
    "plt.plot(x, y)\n",
    "plt.show()"
   ]
  },
  {
   "cell_type": "markdown",
   "metadata": {},
   "source": [
    "## 4.5 学習アルゴリズムの実装"
   ]
  },
  {
   "cell_type": "markdown",
   "metadata": {},
   "source": [
    "### 4.5.1 2層ニューラルネットワークのクラス"
   ]
  },
  {
   "cell_type": "code",
   "execution_count": 3,
   "metadata": {},
   "outputs": [
    {
     "name": "stdout",
     "output_type": "stream",
     "text": [
      "(80, 100)\n",
      "(100,)\n",
      "(100, 10)\n",
      "(10,)\n",
      "hello\n",
      "(80, 100)\n",
      "(100,)\n",
      "(100, 10)\n",
      "(10,)\n"
     ]
    }
   ],
   "source": [
    "import numpy as np\n",
    "\n",
    "# 作ったクラスをインポートして呼び出す\n",
    "import two_layer_net as tl\n",
    "\n",
    "#input_size = 784\n",
    "input_size = 80\n",
    "hidden_size = 100\n",
    "output_size = 10\n",
    "net = tl.TwoLayerNet(input_size, hidden_size, output_size)\n",
    "\n",
    "#パラメータのチェック (行列の形)\n",
    "print(net.params['W1'].shape)\n",
    "print(net.params['b1'].shape)\n",
    "print(net.params['W2'].shape)\n",
    "print(net.params['b2'].shape)\n",
    "\n",
    "# 推論処理\n",
    "x = np.random.rand(100, input_size) # ダミーの入力データ100枚分\n",
    "t = np.random.rand(100, output_size) # ダミーの正解ラベル\n",
    "y = net.predict(x)# 伝播を計算\n",
    "\n",
    "\n",
    "# 勾配の計算 \n",
    "grads = net.numerical_gradient(x, t) # 勾配を計算(時間がかかる)\n",
    "\n",
    "print(\"hello\")\n",
    "print(grads['W1'].shape)\n",
    "print(grads['b1'].shape)\n",
    "print(grads['W2'].shape)\n",
    "print(grads['b2'].shape)\n",
    "\n",
    "\n"
   ]
  },
  {
   "cell_type": "markdown",
   "metadata": {},
   "source": [
    "### 5.4.1, 5.4.2 乗算レイヤと加算レイヤの実装"
   ]
  },
  {
   "cell_type": "code",
   "execution_count": 4,
   "metadata": {},
   "outputs": [
    {
     "name": "stdout",
     "output_type": "stream",
     "text": [
      "715.0000000000001\n",
      "110.00000000000001 2.2 3.3000000000000003 165.0 650\n"
     ]
    }
   ],
   "source": [
    "# 乗算レイヤ\n",
    "class MulLayer:\n",
    "    def __init__(self):\n",
    "        self.x = None\n",
    "        self.y = None\n",
    "      \n",
    "    # 順伝播\n",
    "    def forward(self, x, y):\n",
    "        self.x = x\n",
    "        self.y = y\n",
    "        out = x*y\n",
    "        \n",
    "        return out\n",
    "    \n",
    "    #逆伝播\n",
    "    def backward(self, dout): # dout は出力の微分\n",
    "        dx = dout * self.y # xとyを入れ替えてかける\n",
    "        dy = dout * self.x\n",
    "        \n",
    "        return dx, dy\n",
    "    \n",
    "class AddLayer:\n",
    "    def __init__(self):\n",
    "        pass ## 何もしない\n",
    "    \n",
    "    def forward(self, x, y):\n",
    "        out = x + y\n",
    "        return out\n",
    "    \n",
    "    def backward(self, dout):\n",
    "        dx = dout * 1.0\n",
    "        dy = dout * 1.0\n",
    "        return dx, dy\n",
    "    \n",
    "    \n",
    "apple = 100\n",
    "apple_num = 2\n",
    "orange = 150\n",
    "orange_num = 3\n",
    "tax = 1.1\n",
    "\n",
    "#レイヤーをつくる\n",
    "mul_apple_layer = MulLayer()\n",
    "mul_orange_layer = MulLayer()\n",
    "add_apple_orange_layer = AddLayer()\n",
    "mul_tax_layer = MulLayer()\n",
    "\n",
    "\n",
    "#順伝播\n",
    "apple_price = mul_apple_layer.forward(apple, apple_num) # ノード1\n",
    "orange_price = mul_orange_layer.forward(orange, orange_num) # ノード2\n",
    "all_price = add_apple_orange_layer.forward(apple_price, orange_price) #ノード3\n",
    "price = mul_tax_layer.forward(all_price, tax) #ノード4\n",
    "\n",
    "#逆伝播\n",
    "dprice = 1\n",
    "dall_price, dtax = mul_tax_layer.backward(dprice) # ノード4\n",
    "dapple_price, dorange_price = add_apple_orange_layer.backward(dall_price) #ノード3\n",
    "dorange, dorange_num = mul_orange_layer.backward(dorange_price) #ノード2\n",
    "dapple, dapple_num = mul_apple_layer.backward(dapple_price) #ノード1\n",
    "\n",
    "print(price)\n",
    "print(dapple_num, dapple, dorange, dorange_num, dtax)   "
   ]
  },
  {
   "cell_type": "markdown",
   "metadata": {},
   "source": [
    "### 6.2.2 隠れ層のアクティベーション分布"
   ]
  },
  {
   "cell_type": "code",
   "execution_count": 5,
   "metadata": {
    "scrolled": true
   },
   "outputs": [
    {
     "data": {
      "image/png": "[encoded data removed]",
      "text/plain": [
       "<matplotlib.figure.Figure at 0x10d9c2908>"
      ]
     },
     "metadata": {},
     "output_type": "display_data"
    }
   ],
   "source": [
    "import numpy as np\n",
    "import matplotlib.pyplot as plt\n",
    "\n",
    "def sigmoid(x): #シグモイド\n",
    "    return 1/(1+np.exp(-x))\n",
    "\n",
    "x = np.random.randn(1000, 100) # 1000個のデータをガウシアンでランダムにつくる\n",
    "\n",
    "node_num = 100 # 各隠れ層のノード数\n",
    "hidden_layer_size = 5 # 隠れ層が5層\n",
    "activations = {} # アクティベーションの結果を格納する配列\n",
    "\n",
    "for i in range(hidden_layer_size): #5個の隠れ層について実行\n",
    "    if i != 0: # 2回目以降はxに前回の結果を代入\n",
    "        x = activations[i-1]\n",
    "        \n",
    "    w = np.random.randn(node_num, node_num) * 1 # 重みの初期値の設定\n",
    "   # w = np.random.randn(node_num, node_num) * 0.01 # 重みの初期値の設定\n",
    "    node_num = 100\n",
    "    w = np.random.randn(node_num, node_num) / np.sqrt(node_num) # Xavier の初期値\n",
    "    # 本来は前層のノードの数の平方根で割るが、今の場合は全ての層が100個\n",
    "    \n",
    "    z = np.dot(x, w) # 重み x データ\n",
    "    #a = sigmoid(z)\n",
    "    a = np.tanh(z) # シグモイドの代わりにtanhを用いる\n",
    "    activations[i] = a\n",
    "    \n",
    "# ヒストグラムを描画\n",
    "\n",
    "for i, a in activations.items():\n",
    "    plt.subplot(1, len(activations), i+1)\n",
    "    plt.title(str(i+1) + \"-layer\")\n",
    "    plt.hist(a.flatten(), 30, range = (0,1))\n",
    "plt.show()\n",
    "\n",
    "                "
   ]
  },
  {
   "cell_type": "markdown",
   "metadata": {},
   "source": [
    "### 7.4.2 im2col\n",
    "データを畳み込み演算ごとの行列にしてくれる関数。下の例は、3ch 7x7 の画像のようなデータに対して、5x5のフィルターをストライド1でかけていく場合。  \n",
    "im2colによってデータが行として展開されたので、これとフィルターを列として展開したものとの内積をとれば演算ができる。フィルターの整形には `reshape(??, -1)` という便利機能を使う(p. 226 参照)  \n",
    "また、演算後は `transpose` 関数を使って整形する。  \n",
    "逆伝播のときは `col2im` を使う。"
   ]
  },
  {
   "cell_type": "code",
   "execution_count": 6,
   "metadata": {},
   "outputs": [
    {
     "name": "stdout",
     "output_type": "stream",
     "text": [
      "(9, 75)\n",
      "(90, 75)\n"
     ]
    }
   ],
   "source": [
    "import sys, os\n",
    "import numpy as np\n",
    "\n",
    "def im2col(input_data, filter_h, filter_w, stride=1, pad=0):\n",
    "    \"\"\"\n",
    "    パラメター\n",
    "    input_data : 入力データ（データ数、チャンネル、高さ、幅の4次元配列）\n",
    "    filter_h : フィルターの高さ\n",
    "    filter_w : フィルターの幅\n",
    "    stride : ストライド\n",
    "    pad : パディング\n",
    "    \n",
    "    返り値\n",
    "    col : 2次元配列\n",
    "    \"\"\"\n",
    "    \n",
    "    N, C, H, W = input_data.shape\n",
    "    # // は整数の除算\n",
    "    out_h = (H + 2*pad - filter_h) // stride + 1\n",
    "    out_w = (W + 2*pad - filter_w) // stride + 1\n",
    "    \n",
    "    img = np.pad(input_data, [(0,0), (0,0), (pad, pad), (pad, pad)], 'constant')\n",
    "    col = np.zeros((N, C, filter_h, filter_w, out_h, out_w))\n",
    "    \n",
    "    for y in range(filter_h):\n",
    "        y_max = y + stride*out_h\n",
    "        for x in range(filter_w):\n",
    "            x_max = x + stride*out_w\n",
    "            col[:, :, y, x, :, :] = img[:, :, y:y_max:stride, x:x_max:stride]\n",
    "            \n",
    "    col = col.transpose(0, 4, 5, 1, 2, 3).reshape(N*out_h*out_w, -1)\n",
    "    return col\n",
    "\n",
    "\n",
    "x1 = np.random.rand(1, 3, 7, 7)\n",
    "col1 = im2col(x1, 5, 5, stride=1, pad=0)\n",
    "print(col1.shape)\n",
    "\n",
    "x2 = np.random.rand(10, 3, 7, 7) # 10個のデータ\n",
    "col2 = im2col(x2, 5, 5, stride=1, pad=0)\n",
    "print(col2.shape)"
   ]
  }
 ],
 "metadata": {
  "kernelspec": {
   "display_name": "Python 3",
   "language": "python",
   "name": "python3"
  },
  "language_info": {
   "codemirror_mode": {
    "name": "ipython",
    "version": 3
   },
   "file_extension": ".py",
   "mimetype": "text/x-python",
   "name": "python",
   "nbconvert_exporter": "python",
   "pygments_lexer": "ipython3",
   "version": "3.6.3"
  }
 },
 "nbformat": 4,
 "nbformat_minor": 2
}
